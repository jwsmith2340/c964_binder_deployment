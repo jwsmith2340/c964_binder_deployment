{
 "cells": [
  {
   "cell_type": "markdown",
   "metadata": {},
   "source": [
    "## Import Libraries"
   ]
  },
  {
   "cell_type": "code",
   "execution_count": 2,
   "metadata": {},
   "outputs": [],
   "source": [
    "# Import needed libraries\n",
    "import numpy as np\n",
    "import pandas as pd\n",
    "import matplotlib\n",
    "import matplotlib.pyplot as plt\n",
    "%matplotlib inline\n",
    "\n",
    "from sklearn.preprocessing import OneHotEncoder\n",
    "from sklearn.compose import ColumnTransformer\n",
    "from sklearn.model_selection import train_test_split\n",
    "from sklearn.ensemble import RandomForestClassifier"
   ]
  },
  {
   "cell_type": "markdown",
   "metadata": {},
   "source": [
    "## Import and Clean Data"
   ]
  },
  {
   "cell_type": "code",
   "execution_count": 4,
   "metadata": {},
   "outputs": [
    {
     "data": {
      "text/html": [
       "<div>\n",
       "<style scoped>\n",
       "    .dataframe tbody tr th:only-of-type {\n",
       "        vertical-align: middle;\n",
       "    }\n",
       "\n",
       "    .dataframe tbody tr th {\n",
       "        vertical-align: top;\n",
       "    }\n",
       "\n",
       "    .dataframe thead th {\n",
       "        text-align: right;\n",
       "    }\n",
       "</style>\n",
       "<table border=\"1\" class=\"dataframe\">\n",
       "  <thead>\n",
       "    <tr style=\"text-align: right;\">\n",
       "      <th></th>\n",
       "      <th>CLIENTNUM</th>\n",
       "      <th>Customer_Age</th>\n",
       "      <th>Dependent_count</th>\n",
       "      <th>Months_on_book</th>\n",
       "      <th>Total_Relationship_Count</th>\n",
       "      <th>Months_Inactive_12_mon</th>\n",
       "      <th>Contacts_Count_12_mon</th>\n",
       "      <th>Credit_Limit</th>\n",
       "      <th>Total_Revolving_Bal</th>\n",
       "      <th>Avg_Open_To_Buy</th>\n",
       "      <th>Total_Amt_Chng_Q4_Q1</th>\n",
       "      <th>Total_Trans_Amt</th>\n",
       "      <th>Total_Trans_Ct</th>\n",
       "      <th>Total_Ct_Chng_Q4_Q1</th>\n",
       "      <th>Avg_Utilization_Ratio</th>\n",
       "      <th>Naive_Bayes_Classifier_Attrition_Flag_Card_Category_Contacts_Count_12_mon_Dependent_count_Education_Level_Months_Inactive_12_mon_1</th>\n",
       "      <th>Naive_Bayes_Classifier_Attrition_Flag_Card_Category_Contacts_Count_12_mon_Dependent_count_Education_Level_Months_Inactive_12_mon_2</th>\n",
       "    </tr>\n",
       "  </thead>\n",
       "  <tbody>\n",
       "    <tr>\n",
       "      <th>count</th>\n",
       "      <td>1.627000e+03</td>\n",
       "      <td>1627.000000</td>\n",
       "      <td>1627.000000</td>\n",
       "      <td>1627.000000</td>\n",
       "      <td>1627.000000</td>\n",
       "      <td>1627.000000</td>\n",
       "      <td>1627.000000</td>\n",
       "      <td>1627.000000</td>\n",
       "      <td>1627.000000</td>\n",
       "      <td>1627.000000</td>\n",
       "      <td>1627.000000</td>\n",
       "      <td>1627.000000</td>\n",
       "      <td>1627.000000</td>\n",
       "      <td>1627.000000</td>\n",
       "      <td>1627.000000</td>\n",
       "      <td>1627.000000</td>\n",
       "      <td>1627.000000</td>\n",
       "    </tr>\n",
       "    <tr>\n",
       "      <th>mean</th>\n",
       "      <td>7.352614e+08</td>\n",
       "      <td>46.659496</td>\n",
       "      <td>2.402581</td>\n",
       "      <td>36.178242</td>\n",
       "      <td>3.279656</td>\n",
       "      <td>2.693301</td>\n",
       "      <td>2.972342</td>\n",
       "      <td>8136.039459</td>\n",
       "      <td>672.822987</td>\n",
       "      <td>7463.216472</td>\n",
       "      <td>0.694277</td>\n",
       "      <td>3095.025814</td>\n",
       "      <td>44.933620</td>\n",
       "      <td>0.554386</td>\n",
       "      <td>0.162475</td>\n",
       "      <td>0.994909</td>\n",
       "      <td>0.005091</td>\n",
       "    </tr>\n",
       "    <tr>\n",
       "      <th>std</th>\n",
       "      <td>3.557725e+07</td>\n",
       "      <td>7.665652</td>\n",
       "      <td>1.275010</td>\n",
       "      <td>7.796548</td>\n",
       "      <td>1.577782</td>\n",
       "      <td>0.899623</td>\n",
       "      <td>1.090537</td>\n",
       "      <td>9095.334105</td>\n",
       "      <td>921.385582</td>\n",
       "      <td>9109.208129</td>\n",
       "      <td>0.214924</td>\n",
       "      <td>2308.227629</td>\n",
       "      <td>14.568429</td>\n",
       "      <td>0.226854</td>\n",
       "      <td>0.264458</td>\n",
       "      <td>0.004303</td>\n",
       "      <td>0.004303</td>\n",
       "    </tr>\n",
       "    <tr>\n",
       "      <th>min</th>\n",
       "      <td>7.080833e+08</td>\n",
       "      <td>26.000000</td>\n",
       "      <td>0.000000</td>\n",
       "      <td>13.000000</td>\n",
       "      <td>1.000000</td>\n",
       "      <td>0.000000</td>\n",
       "      <td>0.000000</td>\n",
       "      <td>1438.300000</td>\n",
       "      <td>0.000000</td>\n",
       "      <td>3.000000</td>\n",
       "      <td>0.000000</td>\n",
       "      <td>510.000000</td>\n",
       "      <td>10.000000</td>\n",
       "      <td>0.000000</td>\n",
       "      <td>0.000000</td>\n",
       "      <td>0.945910</td>\n",
       "      <td>0.000420</td>\n",
       "    </tr>\n",
       "    <tr>\n",
       "      <th>25%</th>\n",
       "      <td>7.123713e+08</td>\n",
       "      <td>41.000000</td>\n",
       "      <td>2.000000</td>\n",
       "      <td>32.000000</td>\n",
       "      <td>2.000000</td>\n",
       "      <td>2.000000</td>\n",
       "      <td>2.000000</td>\n",
       "      <td>2114.000000</td>\n",
       "      <td>0.000000</td>\n",
       "      <td>1587.000000</td>\n",
       "      <td>0.544500</td>\n",
       "      <td>1903.500000</td>\n",
       "      <td>37.000000</td>\n",
       "      <td>0.400000</td>\n",
       "      <td>0.000000</td>\n",
       "      <td>0.994300</td>\n",
       "      <td>0.002825</td>\n",
       "    </tr>\n",
       "    <tr>\n",
       "      <th>50%</th>\n",
       "      <td>7.165644e+08</td>\n",
       "      <td>47.000000</td>\n",
       "      <td>2.000000</td>\n",
       "      <td>36.000000</td>\n",
       "      <td>3.000000</td>\n",
       "      <td>3.000000</td>\n",
       "      <td>3.000000</td>\n",
       "      <td>4178.000000</td>\n",
       "      <td>0.000000</td>\n",
       "      <td>3488.000000</td>\n",
       "      <td>0.701000</td>\n",
       "      <td>2329.000000</td>\n",
       "      <td>43.000000</td>\n",
       "      <td>0.531000</td>\n",
       "      <td>0.000000</td>\n",
       "      <td>0.996310</td>\n",
       "      <td>0.003688</td>\n",
       "    </tr>\n",
       "    <tr>\n",
       "      <th>75%</th>\n",
       "      <td>7.683737e+08</td>\n",
       "      <td>52.000000</td>\n",
       "      <td>3.000000</td>\n",
       "      <td>40.000000</td>\n",
       "      <td>5.000000</td>\n",
       "      <td>3.000000</td>\n",
       "      <td>4.000000</td>\n",
       "      <td>9933.500000</td>\n",
       "      <td>1303.500000</td>\n",
       "      <td>9257.500000</td>\n",
       "      <td>0.856000</td>\n",
       "      <td>2772.000000</td>\n",
       "      <td>51.000000</td>\n",
       "      <td>0.692000</td>\n",
       "      <td>0.231000</td>\n",
       "      <td>0.997170</td>\n",
       "      <td>0.005700</td>\n",
       "    </tr>\n",
       "    <tr>\n",
       "      <th>max</th>\n",
       "      <td>8.282949e+08</td>\n",
       "      <td>68.000000</td>\n",
       "      <td>5.000000</td>\n",
       "      <td>56.000000</td>\n",
       "      <td>6.000000</td>\n",
       "      <td>6.000000</td>\n",
       "      <td>6.000000</td>\n",
       "      <td>34516.000000</td>\n",
       "      <td>2517.000000</td>\n",
       "      <td>34516.000000</td>\n",
       "      <td>1.492000</td>\n",
       "      <td>10583.000000</td>\n",
       "      <td>94.000000</td>\n",
       "      <td>2.500000</td>\n",
       "      <td>0.999000</td>\n",
       "      <td>0.999580</td>\n",
       "      <td>0.054090</td>\n",
       "    </tr>\n",
       "  </tbody>\n",
       "</table>\n",
       "</div>"
      ],
      "text/plain": [
       "          CLIENTNUM  Customer_Age  Dependent_count  Months_on_book  \\\n",
       "count  1.627000e+03   1627.000000      1627.000000     1627.000000   \n",
       "mean   7.352614e+08     46.659496         2.402581       36.178242   \n",
       "std    3.557725e+07      7.665652         1.275010        7.796548   \n",
       "min    7.080833e+08     26.000000         0.000000       13.000000   \n",
       "25%    7.123713e+08     41.000000         2.000000       32.000000   \n",
       "50%    7.165644e+08     47.000000         2.000000       36.000000   \n",
       "75%    7.683737e+08     52.000000         3.000000       40.000000   \n",
       "max    8.282949e+08     68.000000         5.000000       56.000000   \n",
       "\n",
       "       Total_Relationship_Count  Months_Inactive_12_mon  \\\n",
       "count               1627.000000             1627.000000   \n",
       "mean                   3.279656                2.693301   \n",
       "std                    1.577782                0.899623   \n",
       "min                    1.000000                0.000000   \n",
       "25%                    2.000000                2.000000   \n",
       "50%                    3.000000                3.000000   \n",
       "75%                    5.000000                3.000000   \n",
       "max                    6.000000                6.000000   \n",
       "\n",
       "       Contacts_Count_12_mon  Credit_Limit  Total_Revolving_Bal  \\\n",
       "count            1627.000000   1627.000000          1627.000000   \n",
       "mean                2.972342   8136.039459           672.822987   \n",
       "std                 1.090537   9095.334105           921.385582   \n",
       "min                 0.000000   1438.300000             0.000000   \n",
       "25%                 2.000000   2114.000000             0.000000   \n",
       "50%                 3.000000   4178.000000             0.000000   \n",
       "75%                 4.000000   9933.500000          1303.500000   \n",
       "max                 6.000000  34516.000000          2517.000000   \n",
       "\n",
       "       Avg_Open_To_Buy  Total_Amt_Chng_Q4_Q1  Total_Trans_Amt  Total_Trans_Ct  \\\n",
       "count      1627.000000           1627.000000      1627.000000     1627.000000   \n",
       "mean       7463.216472              0.694277      3095.025814       44.933620   \n",
       "std        9109.208129              0.214924      2308.227629       14.568429   \n",
       "min           3.000000              0.000000       510.000000       10.000000   \n",
       "25%        1587.000000              0.544500      1903.500000       37.000000   \n",
       "50%        3488.000000              0.701000      2329.000000       43.000000   \n",
       "75%        9257.500000              0.856000      2772.000000       51.000000   \n",
       "max       34516.000000              1.492000     10583.000000       94.000000   \n",
       "\n",
       "       Total_Ct_Chng_Q4_Q1  Avg_Utilization_Ratio  \\\n",
       "count          1627.000000            1627.000000   \n",
       "mean              0.554386               0.162475   \n",
       "std               0.226854               0.264458   \n",
       "min               0.000000               0.000000   \n",
       "25%               0.400000               0.000000   \n",
       "50%               0.531000               0.000000   \n",
       "75%               0.692000               0.231000   \n",
       "max               2.500000               0.999000   \n",
       "\n",
       "       Naive_Bayes_Classifier_Attrition_Flag_Card_Category_Contacts_Count_12_mon_Dependent_count_Education_Level_Months_Inactive_12_mon_1  \\\n",
       "count                                        1627.000000                                                                                    \n",
       "mean                                            0.994909                                                                                    \n",
       "std                                             0.004303                                                                                    \n",
       "min                                             0.945910                                                                                    \n",
       "25%                                             0.994300                                                                                    \n",
       "50%                                             0.996310                                                                                    \n",
       "75%                                             0.997170                                                                                    \n",
       "max                                             0.999580                                                                                    \n",
       "\n",
       "       Naive_Bayes_Classifier_Attrition_Flag_Card_Category_Contacts_Count_12_mon_Dependent_count_Education_Level_Months_Inactive_12_mon_2  \n",
       "count                                        1627.000000                                                                                   \n",
       "mean                                            0.005091                                                                                   \n",
       "std                                             0.004303                                                                                   \n",
       "min                                             0.000420                                                                                   \n",
       "25%                                             0.002825                                                                                   \n",
       "50%                                             0.003688                                                                                   \n",
       "75%                                             0.005700                                                                                   \n",
       "max                                             0.054090                                                                                   "
      ]
     },
     "execution_count": 4,
     "metadata": {},
     "output_type": "execute_result"
    }
   ],
   "source": [
    "# Import the data set and give 'attrition flag' a more descriptive heading\n",
    "ds = pd.read_csv('BankChurners.csv')\n",
    "ds.rename(columns = {'Attrition_Flag':'Existing_Customer_Bit'}, inplace = True)\n",
    "\n",
    "# Update string values to bit values 1 & 0\n",
    "ds.loc[ds['Existing_Customer_Bit'] == 'Existing Customer', 'Existing_Customer_Bit'] = 1\n",
    "ds.loc[ds['Existing_Customer_Bit'] == 'Attrited Customer', 'Existing_Customer_Bit'] = 0\n",
    "\n",
    "ds[(ds['Existing_Customer_Bit'] == 0)].describe()"
   ]
  },
  {
   "cell_type": "code",
   "execution_count": 3,
   "metadata": {},
   "outputs": [],
   "source": [
    "# Drop unused/unnecessary columns and split data into Features and Labels\n",
    "ds.drop(['Naive_Bayes_Classifier_Attrition_Flag_Card_Category_Contacts_Count_12_mon_Dependent_count_Education_Level_Months_Inactive_12_mon_1',\n",
    "         'CLIENTNUM',\n",
    "         'Total_Relationship_Count',\n",
    "         'Naive_Bayes_Classifier_Attrition_Flag_Card_Category_Contacts_Count_12_mon_Dependent_count_Education_Level_Months_Inactive_12_mon_2'], \n",
    "        inplace=True, \n",
    "        axis=1)\n",
    "\n",
    "X = ds.drop('Existing_Customer_Bit', axis=1)\n",
    "y = ds['Existing_Customer_Bit']"
   ]
  },
  {
   "cell_type": "markdown",
   "metadata": {},
   "source": [
    "## Data Visualization / Descriptive Method"
   ]
  },
  {
   "cell_type": "code",
   "execution_count": 4,
   "metadata": {},
   "outputs": [
    {
     "data": {
      "image/png": "[encoded data removed]",
      "text/plain": [
       "<Figure size 720x504 with 1 Axes>"
      ]
     },
     "metadata": {
      "needs_background": "light"
     },
     "output_type": "display_data"
    }
   ],
   "source": [
    "# Visualization #1 - Visualizing the correlation between customer age and credit limit split by gender\n",
    "\n",
    "# mean cus age == 46\n",
    "men = ds[(ds.Gender == 'M')]\n",
    "women = ds[(ds.Gender == 'F')]\n",
    "# x = months on book\n",
    "# y = credit limit\n",
    "\n",
    "matplotlib.rcParams['figure.figsize'] = (10,7)\n",
    "\n",
    "men_x = men.Months_on_book[:100]\n",
    "men_y = men.Credit_Limit[:100]\n",
    "\n",
    "women_x = women.Months_on_book[:100]\n",
    "women_y = women.Credit_Limit[:100]\n",
    "\n",
    "plt.scatter(men_x, men_y, marker = '+', color = 'blue', label = 'Men')\n",
    "plt.scatter(women_x, women_y, marker = 'x', color = 'red', label = 'Women')\n",
    "plt.xlabel(\"Customer Age\")\n",
    "plt.ylabel(\"Credit Limit\")\n",
    "plt.title(\"Correlation Between Customer Age and Credit Limit Split by Gender\")\n",
    "plt.legend();"
   ]
  },
  {
   "cell_type": "code",
   "execution_count": 5,
   "metadata": {},
   "outputs": [
    {
     "data": {
      "image/png": "[encoded data removed]",
      "text/plain": [
       "<Figure size 720x504 with 1 Axes>"
      ]
     },
     "metadata": {
      "needs_background": "light"
     },
     "output_type": "display_data"
    }
   ],
   "source": [
    "# Visualization #2 - Visualizing transaction data differences between current and former customers\n",
    "\n",
    "# mean cus age == 46\n",
    "existing_customer = ds[(ds.Existing_Customer_Bit == 1) & (ds.Customer_Age == 46)]\n",
    "former_customer = ds[(ds.Existing_Customer_Bit == 0) & (ds.Customer_Age == 46)]\n",
    "\n",
    "matplotlib.rcParams['figure.figsize'] = (10,7)\n",
    "\n",
    "existing_customer_x = existing_customer.Total_Trans_Ct[:100]\n",
    "existing_customer_y = existing_customer.Total_Trans_Amt[:100]\n",
    "\n",
    "former_customer_x = former_customer.Total_Trans_Ct[:100]\n",
    "former_customer_y = former_customer.Total_Trans_Amt[:100]\n",
    "\n",
    "plt.scatter(existing_customer_x, existing_customer_y, marker = '+', color = 'green', label = 'Current Customer')\n",
    "plt.scatter(former_customer_x, former_customer_y, marker = 'x', color = 'red', label = 'Former Customer')\n",
    "plt.xlabel(\"Total Transaction Count\")\n",
    "plt.ylabel(\"Total Transaction Amount\")\n",
    "plt.title(\"Transaction Data Between Current and Former Customers\")\n",
    "plt.legend();"
   ]
  },
  {
   "cell_type": "code",
   "execution_count": 6,
   "metadata": {},
   "outputs": [
    {
     "data": {
      "image/png": "[encoded data removed]",
      "text/plain": [
       "<Figure size 720x504 with 1 Axes>"
      ]
     },
     "metadata": {
      "needs_background": "light"
     },
     "output_type": "display_data"
    }
   ],
   "source": [
    "# Visualization #3 - Visualizing the card types held by all former customers\n",
    "\n",
    "former_customers = ds[(ds.Existing_Customer_Bit == 0)]\n",
    "\n",
    "# Historgram plot (Only one axis)\n",
    "plt.hist(former_customers['Card_Category'], color = 'blue');"
   ]
  },
  {
   "cell_type": "markdown",
   "metadata": {},
   "source": [
    "## Machine Learning / Non-Descriptive Method"
   ]
  },
  {
   "cell_type": "code",
   "execution_count": 7,
   "metadata": {},
   "outputs": [
    {
     "data": {
      "text/html": [
       "<div>\n",
       "<style scoped>\n",
       "    .dataframe tbody tr th:only-of-type {\n",
       "        vertical-align: middle;\n",
       "    }\n",
       "\n",
       "    .dataframe tbody tr th {\n",
       "        vertical-align: top;\n",
       "    }\n",
       "\n",
       "    .dataframe thead th {\n",
       "        text-align: right;\n",
       "    }\n",
       "</style>\n",
       "<table border=\"1\" class=\"dataframe\">\n",
       "  <thead>\n",
       "    <tr style=\"text-align: right;\">\n",
       "      <th></th>\n",
       "      <th>0</th>\n",
       "      <th>1</th>\n",
       "      <th>2</th>\n",
       "      <th>3</th>\n",
       "      <th>4</th>\n",
       "      <th>5</th>\n",
       "      <th>6</th>\n",
       "      <th>7</th>\n",
       "      <th>8</th>\n",
       "      <th>9</th>\n",
       "      <th>...</th>\n",
       "      <th>26</th>\n",
       "      <th>27</th>\n",
       "      <th>28</th>\n",
       "      <th>29</th>\n",
       "      <th>30</th>\n",
       "      <th>31</th>\n",
       "      <th>32</th>\n",
       "      <th>33</th>\n",
       "      <th>34</th>\n",
       "      <th>35</th>\n",
       "    </tr>\n",
       "  </thead>\n",
       "  <tbody>\n",
       "    <tr>\n",
       "      <th>0</th>\n",
       "      <td>0.0</td>\n",
       "      <td>1.0</td>\n",
       "      <td>0.0</td>\n",
       "      <td>0.0</td>\n",
       "      <td>0.0</td>\n",
       "      <td>1.0</td>\n",
       "      <td>0.0</td>\n",
       "      <td>0.0</td>\n",
       "      <td>0.0</td>\n",
       "      <td>0.0</td>\n",
       "      <td>...</td>\n",
       "      <td>1.0</td>\n",
       "      <td>3.0</td>\n",
       "      <td>12691.0</td>\n",
       "      <td>777.0</td>\n",
       "      <td>11914.0</td>\n",
       "      <td>1.335</td>\n",
       "      <td>1144.0</td>\n",
       "      <td>42.0</td>\n",
       "      <td>1.625</td>\n",
       "      <td>0.061</td>\n",
       "    </tr>\n",
       "    <tr>\n",
       "      <th>1</th>\n",
       "      <td>1.0</td>\n",
       "      <td>0.0</td>\n",
       "      <td>0.0</td>\n",
       "      <td>0.0</td>\n",
       "      <td>1.0</td>\n",
       "      <td>0.0</td>\n",
       "      <td>0.0</td>\n",
       "      <td>0.0</td>\n",
       "      <td>0.0</td>\n",
       "      <td>0.0</td>\n",
       "      <td>...</td>\n",
       "      <td>1.0</td>\n",
       "      <td>2.0</td>\n",
       "      <td>8256.0</td>\n",
       "      <td>864.0</td>\n",
       "      <td>7392.0</td>\n",
       "      <td>1.541</td>\n",
       "      <td>1291.0</td>\n",
       "      <td>33.0</td>\n",
       "      <td>3.714</td>\n",
       "      <td>0.105</td>\n",
       "    </tr>\n",
       "    <tr>\n",
       "      <th>2</th>\n",
       "      <td>0.0</td>\n",
       "      <td>1.0</td>\n",
       "      <td>0.0</td>\n",
       "      <td>0.0</td>\n",
       "      <td>1.0</td>\n",
       "      <td>0.0</td>\n",
       "      <td>0.0</td>\n",
       "      <td>0.0</td>\n",
       "      <td>0.0</td>\n",
       "      <td>0.0</td>\n",
       "      <td>...</td>\n",
       "      <td>1.0</td>\n",
       "      <td>0.0</td>\n",
       "      <td>3418.0</td>\n",
       "      <td>0.0</td>\n",
       "      <td>3418.0</td>\n",
       "      <td>2.594</td>\n",
       "      <td>1887.0</td>\n",
       "      <td>20.0</td>\n",
       "      <td>2.333</td>\n",
       "      <td>0.000</td>\n",
       "    </tr>\n",
       "    <tr>\n",
       "      <th>3</th>\n",
       "      <td>1.0</td>\n",
       "      <td>0.0</td>\n",
       "      <td>0.0</td>\n",
       "      <td>0.0</td>\n",
       "      <td>0.0</td>\n",
       "      <td>1.0</td>\n",
       "      <td>0.0</td>\n",
       "      <td>0.0</td>\n",
       "      <td>0.0</td>\n",
       "      <td>0.0</td>\n",
       "      <td>...</td>\n",
       "      <td>4.0</td>\n",
       "      <td>1.0</td>\n",
       "      <td>3313.0</td>\n",
       "      <td>2517.0</td>\n",
       "      <td>796.0</td>\n",
       "      <td>1.405</td>\n",
       "      <td>1171.0</td>\n",
       "      <td>20.0</td>\n",
       "      <td>2.333</td>\n",
       "      <td>0.760</td>\n",
       "    </tr>\n",
       "    <tr>\n",
       "      <th>4</th>\n",
       "      <td>0.0</td>\n",
       "      <td>1.0</td>\n",
       "      <td>0.0</td>\n",
       "      <td>0.0</td>\n",
       "      <td>0.0</td>\n",
       "      <td>0.0</td>\n",
       "      <td>0.0</td>\n",
       "      <td>1.0</td>\n",
       "      <td>0.0</td>\n",
       "      <td>0.0</td>\n",
       "      <td>...</td>\n",
       "      <td>1.0</td>\n",
       "      <td>0.0</td>\n",
       "      <td>4716.0</td>\n",
       "      <td>0.0</td>\n",
       "      <td>4716.0</td>\n",
       "      <td>2.175</td>\n",
       "      <td>816.0</td>\n",
       "      <td>28.0</td>\n",
       "      <td>2.500</td>\n",
       "      <td>0.000</td>\n",
       "    </tr>\n",
       "  </tbody>\n",
       "</table>\n",
       "<p>5 rows × 36 columns</p>\n",
       "</div>"
      ],
      "text/plain": [
       "    0    1    2    3    4    5    6    7    8    9   ...   26   27       28  \\\n",
       "0  0.0  1.0  0.0  0.0  0.0  1.0  0.0  0.0  0.0  0.0  ...  1.0  3.0  12691.0   \n",
       "1  1.0  0.0  0.0  0.0  1.0  0.0  0.0  0.0  0.0  0.0  ...  1.0  2.0   8256.0   \n",
       "2  0.0  1.0  0.0  0.0  1.0  0.0  0.0  0.0  0.0  0.0  ...  1.0  0.0   3418.0   \n",
       "3  1.0  0.0  0.0  0.0  0.0  1.0  0.0  0.0  0.0  0.0  ...  4.0  1.0   3313.0   \n",
       "4  0.0  1.0  0.0  0.0  0.0  0.0  0.0  1.0  0.0  0.0  ...  1.0  0.0   4716.0   \n",
       "\n",
       "       29       30     31      32    33     34     35  \n",
       "0   777.0  11914.0  1.335  1144.0  42.0  1.625  0.061  \n",
       "1   864.0   7392.0  1.541  1291.0  33.0  3.714  0.105  \n",
       "2     0.0   3418.0  2.594  1887.0  20.0  2.333  0.000  \n",
       "3  2517.0    796.0  1.405  1171.0  20.0  2.333  0.760  \n",
       "4     0.0   4716.0  2.175   816.0  28.0  2.500  0.000  \n",
       "\n",
       "[5 rows x 36 columns]"
      ]
     },
     "execution_count": 7,
     "metadata": {},
     "output_type": "execute_result"
    }
   ],
   "source": [
    "# Create a list of all categorical columns\n",
    "categorical_features = ['Gender', 'Education_Level', 'Marital_Status', 'Income_Category', 'Card_Category']\n",
    "\n",
    "# Instantiate OneHotEncoder into a variable\n",
    "one_hot = OneHotEncoder()\n",
    "\n",
    "# Encode category columns for proper ML ingestion\n",
    "transformer = ColumnTransformer([('one_hot', one_hot, categorical_features)],\n",
    "                               remainder = 'passthrough')\n",
    "\n",
    "# Assign the encoded data to transformed_X and view the data in a pandas data frame\n",
    "transformed_X = transformer.fit_transform(X)\n",
    "pd.DataFrame(transformed_X[:5])"
   ]
  },
  {
   "cell_type": "code",
   "execution_count": 8,
   "metadata": {},
   "outputs": [
    {
     "data": {
      "text/plain": [
       "((8101, 36), (2026, 36), (8101,), (2026,))"
      ]
     },
     "execution_count": 8,
     "metadata": {},
     "output_type": "execute_result"
    }
   ],
   "source": [
    "# Split the data into training and test sets and show the shape of each result\n",
    "X_train, X_test, y_train, y_test = train_test_split(transformed_X, y, test_size=0.2)\n",
    "X_train.shape, X_test.shape, y_train.shape, y_test.shape"
   ]
  },
  {
   "cell_type": "code",
   "execution_count": 9,
   "metadata": {},
   "outputs": [
    {
     "data": {
      "text/plain": [
       "Existing_Customer_Bit     0\n",
       "Customer_Age              0\n",
       "Gender                    0\n",
       "Dependent_count           0\n",
       "Education_Level           0\n",
       "Marital_Status            0\n",
       "Income_Category           0\n",
       "Card_Category             0\n",
       "Months_on_book            0\n",
       "Months_Inactive_12_mon    0\n",
       "Contacts_Count_12_mon     0\n",
       "Credit_Limit              0\n",
       "Total_Revolving_Bal       0\n",
       "Avg_Open_To_Buy           0\n",
       "Total_Amt_Chng_Q4_Q1      0\n",
       "Total_Trans_Amt           0\n",
       "Total_Trans_Ct            0\n",
       "Total_Ct_Chng_Q4_Q1       0\n",
       "Avg_Utilization_Ratio     0\n",
       "dtype: int64"
      ]
     },
     "execution_count": 9,
     "metadata": {},
     "output_type": "execute_result"
    }
   ],
   "source": [
    "# Check for missing data, which if found will need to be cleaned for ML ingestion\n",
    "ds.isna().sum()"
   ]
  },
  {
   "cell_type": "code",
   "execution_count": 10,
   "metadata": {},
   "outputs": [
    {
     "data": {
      "text/plain": [
       "0.9427443237907206"
      ]
     },
     "execution_count": 10,
     "metadata": {},
     "output_type": "execute_result"
    }
   ],
   "source": [
    "# Instantiate clf as a Random Forest Classifier, train the model, and then test the model's\n",
    "# accuracy\n",
    "clf = RandomForestClassifier()\n",
    "\n",
    "clf.fit(X_train, y_train.astype(int))\n",
    "clf.score(X_test, y_test.astype(int))"
   ]
  },
  {
   "cell_type": "code",
   "execution_count": 11,
   "metadata": {},
   "outputs": [
    {
     "data": {
      "text/plain": [
       "array([[0.18, 0.82],\n",
       "       [0.35, 0.65],\n",
       "       [0.01, 0.99],\n",
       "       [0.02, 0.98],\n",
       "       [0.  , 1.  ]])"
      ]
     },
     "execution_count": 11,
     "metadata": {},
     "output_type": "execute_result"
    }
   ],
   "source": [
    "# Looking at the probability split of the test data on a limited number of results\n",
    "clf.predict_proba(X_test[:5])"
   ]
  },
  {
   "cell_type": "code",
   "execution_count": 12,
   "metadata": {},
   "outputs": [],
   "source": [
    "# Accuracy score is > 90%, so the model is ready to be tested\n",
    "# A value of 1 == existing customer, so a customer who is not at risk to cancel their card\n",
    "# A value of 0 == attritted customer, so the custoemr is at risk of cancelling their card"
   ]
  },
  {
   "cell_type": "code",
   "execution_count": 13,
   "metadata": {},
   "outputs": [
    {
     "data": {
      "text/plain": [
       "array([1])"
      ]
     },
     "execution_count": 13,
     "metadata": {},
     "output_type": "execute_result"
    }
   ],
   "source": [
    "# Test 1 - Indicates a customer not at risk to cancel their card\n",
    "clf.predict([ [0,1,               # Gender == M\n",
    "               1,0,0,0,0,0,0,     # Education Level == College\n",
    "               0,1,0,0,           # Marital Status == Married\n",
    "               1,0,0,0,0,0,       # Income Category == > $120k\n",
    "               0,1,0,0,           # Card Category == Gold\n",
    "               33,2,12,0,25,17000,1000,16000,1.1,2300,23,1.1,0.05] ])"
   ]
  },
  {
   "cell_type": "code",
   "execution_count": 14,
   "metadata": {},
   "outputs": [
    {
     "data": {
      "text/plain": [
       "array([1])"
      ]
     },
     "execution_count": 14,
     "metadata": {},
     "output_type": "execute_result"
    }
   ],
   "source": [
    "# Test 2 - Indicates a customer not at risk to cancel their card\n",
    "clf.predict([ [1,0,               # Gender == F\n",
    "               0,0,0,0,0,1,0,     # Education Level == Uneducated\n",
    "               0,0,1,0,           # Marital Status == Single\n",
    "               0,0,0,0,0,1,       # Income Category == Unknown\n",
    "               1,0,0,0,           # Card Category == Blue\n",
    "               47,0,3,1,4,5000,2000,3000,1,2000,6,1,0.4] ])"
   ]
  },
  {
   "cell_type": "code",
   "execution_count": 15,
   "metadata": {},
   "outputs": [
    {
     "data": {
      "text/plain": [
       "array([0])"
      ]
     },
     "execution_count": 15,
     "metadata": {},
     "output_type": "execute_result"
    }
   ],
   "source": [
    "# Test 3 - Indicates a customer at risk to cancel their card\n",
    "clf.predict([ [0,1,               # Gender == M\n",
    "               0,0,1,0,0,0,0,     # Education Level == Graduate\n",
    "               0,1,0,0,           # Marital Status == Married\n",
    "               0,0,0,0,1,0,       # Income Category == < $40k\n",
    "               1,0,0,0,           # Card Category == Blue\n",
    "               47,2,36,3,3,8000,675,7460,0.69,700,45,0.75,0.56] ])"
   ]
  },
  {
   "cell_type": "code",
   "execution_count": null,
   "metadata": {},
   "outputs": [],
   "source": []
  }
 ],
 "metadata": {
  "kernelspec": {
   "display_name": "Python 3 (ipykernel)",
   "language": "python",
   "name": "python3"
  },
  "language_info": {
   "codemirror_mode": {
    "name": "ipython",
    "version": 3
   },
   "file_extension": ".py",
   "mimetype": "text/x-python",
   "name": "python",
   "nbconvert_exporter": "python",
   "pygments_lexer": "ipython3",
   "version": "3.9.12"
  }
 },
 "nbformat": 4,
 "nbformat_minor": 1
}
